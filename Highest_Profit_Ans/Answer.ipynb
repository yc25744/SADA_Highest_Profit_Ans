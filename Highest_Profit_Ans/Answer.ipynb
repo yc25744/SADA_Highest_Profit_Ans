{
 "metadata": {
  "language_info": {
   "codemirror_mode": {
    "name": "ipython",
    "version": 3
   },
   "file_extension": ".py",
   "mimetype": "text/x-python",
   "name": "python",
   "nbconvert_exporter": "python",
   "pygments_lexer": "ipython3",
   "version": "3.7.4"
  },
  "orig_nbformat": 2,
  "kernelspec": {
   "name": "python374jvsc74a57bd0b1df407160a1fe7de4260c01dc6774bd98dc1214411501dd5b51cc10cb030988",
   "display_name": "Python 3.7.4 64-bit ('base': conda)"
  }
 },
 "nbformat": 4,
 "nbformat_minor": 2,
 "cells": [
  {
   "cell_type": "code",
   "execution_count": 455,
   "metadata": {},
   "outputs": [],
   "source": [
    "import pandas as pd\n",
    "import io\n",
    "import requests\n",
    "import numpy as np"
   ]
  },
  {
   "cell_type": "code",
   "execution_count": 457,
   "metadata": {},
   "outputs": [],
   "source": [
    "#URL CSV to dataframe\n",
    "url=\"https://gist.githubusercontent.com/bobbae/b4eec5b5cb0263e7e3e63a6806d045f2/raw/279b794a834a62dc108fc843a72c94c49361b501/data.csv\"\n",
    "response=requests.get(url).content\n",
    "data_file=pd.read_csv(io.StringIO(response.decode('utf-8')))"
   ]
  },
  {
   "cell_type": "code",
   "execution_count": 459,
   "metadata": {},
   "outputs": [
    {
     "output_type": "execute_result",
     "data": {
      "text/plain": [
       "   Year  Rank           Company  Revenue (in millions) Profit (in millions)\n",
       "0  1955     1    General Motors                 9823.5                  806\n",
       "1  1955     2       Exxon Mobil                 5661.4                584.8\n",
       "2  1955     3        U.S. Steel                 3250.4                195.4\n",
       "3  1955     4  General Electric                 2959.1                212.6\n",
       "4  1955     5            Esmark                 2510.8                 19.1"
      ],
      "text/html": "<div>\n<style scoped>\n    .dataframe tbody tr th:only-of-type {\n        vertical-align: middle;\n    }\n\n    .dataframe tbody tr th {\n        vertical-align: top;\n    }\n\n    .dataframe thead th {\n        text-align: right;\n    }\n</style>\n<table border=\"1\" class=\"dataframe\">\n  <thead>\n    <tr style=\"text-align: right;\">\n      <th></th>\n      <th>Year</th>\n      <th>Rank</th>\n      <th>Company</th>\n      <th>Revenue (in millions)</th>\n      <th>Profit (in millions)</th>\n    </tr>\n  </thead>\n  <tbody>\n    <tr>\n      <td>0</td>\n      <td>1955</td>\n      <td>1</td>\n      <td>General Motors</td>\n      <td>9823.5</td>\n      <td>806</td>\n    </tr>\n    <tr>\n      <td>1</td>\n      <td>1955</td>\n      <td>2</td>\n      <td>Exxon Mobil</td>\n      <td>5661.4</td>\n      <td>584.8</td>\n    </tr>\n    <tr>\n      <td>2</td>\n      <td>1955</td>\n      <td>3</td>\n      <td>U.S. Steel</td>\n      <td>3250.4</td>\n      <td>195.4</td>\n    </tr>\n    <tr>\n      <td>3</td>\n      <td>1955</td>\n      <td>4</td>\n      <td>General Electric</td>\n      <td>2959.1</td>\n      <td>212.6</td>\n    </tr>\n    <tr>\n      <td>4</td>\n      <td>1955</td>\n      <td>5</td>\n      <td>Esmark</td>\n      <td>2510.8</td>\n      <td>19.1</td>\n    </tr>\n  </tbody>\n</table>\n</div>"
     },
     "metadata": {},
     "execution_count": 459
    }
   ],
   "source": [
    "# Check our data frame \n",
    "data_file.head()"
   ]
  },
  {
   "cell_type": "code",
   "execution_count": 461,
   "metadata": {},
   "outputs": [
    {
     "output_type": "execute_result",
     "data": {
      "text/plain": [
       "Year                     25500\n",
       "Rank                     25500\n",
       "Company                  25500\n",
       "Revenue (in millions)    25500\n",
       "Profit (in millions)     25500\n",
       "dtype: int64"
      ]
     },
     "metadata": {},
     "execution_count": 461
    }
   ],
   "source": [
    "#Drop all rows with missing informaiton in case\n",
    "df=data_file.dropna(how='any')\n",
    "df.count()"
   ]
  },
  {
   "cell_type": "code",
   "execution_count": 463,
   "metadata": {},
   "outputs": [
    {
     "output_type": "stream",
     "name": "stdout",
     "text": [
      "There are total number of 25500 rows\n"
     ]
    }
   ],
   "source": [
    "# Found the total rows of this df\n",
    "Total_row_profit = len(df)\n",
    "print(f\"There are total number of {Total_row_profit} rows\")"
   ]
  },
  {
   "cell_type": "code",
   "execution_count": 465,
   "metadata": {},
   "outputs": [],
   "source": [
    "# Changed name Profit (in millions) to profit for conveniency  \n",
    "# Used df['profit'] = pd.to_numeric(df['profit']) to find out what is causing a issue - found that there are N.A value\n",
    "# rename Profit(in millions) to profit\n",
    "df=df.rename(columns={'Profit (in millions)' : 'profit', 'Revenue (in millions)' : 'revenue'})"
   ]
  },
  {
   "cell_type": "code",
   "execution_count": 467,
   "metadata": {},
   "outputs": [
    {
     "output_type": "execute_result",
     "data": {
      "text/plain": [
       "Year         int64\n",
       "Rank         int64\n",
       "Company     object\n",
       "revenue    float64\n",
       "profit     float64\n",
       "dtype: object"
      ]
     },
     "metadata": {},
     "execution_count": 467
    }
   ],
   "source": [
    "#Find the types of the profit and changed column name (Checked that this is non-numeric)\n",
    "df.dtypes"
   ]
  },
  {
   "cell_type": "code",
   "execution_count": 469,
   "metadata": {},
   "outputs": [
    {
     "output_type": "execute_result",
     "data": {
      "text/plain": [
       "       Year  Rank                Company  revenue  profit\n",
       "0      1955     1         General Motors   9823.5   806.0\n",
       "1      1955     2            Exxon Mobil   5661.4   584.8\n",
       "2      1955     3             U.S. Steel   3250.4   195.4\n",
       "3      1955     4       General Electric   2959.1   212.6\n",
       "4      1955     5                 Esmark   2510.8    19.1\n",
       "...     ...   ...                    ...      ...     ...\n",
       "25495  2005   496        Wm. Wrigley Jr.   3648.6   493.0\n",
       "25496  2005   497         Peabody Energy   3631.6   175.4\n",
       "25497  2005   498  Wendy's International   3630.4    57.8\n",
       "25498  2005   499     Kindred Healthcare   3616.6    70.6\n",
       "25499  2005   500   Cincinnati Financial   3614.0   584.0\n",
       "\n",
       "[25131 rows x 5 columns]"
      ],
      "text/html": "<div>\n<style scoped>\n    .dataframe tbody tr th:only-of-type {\n        vertical-align: middle;\n    }\n\n    .dataframe tbody tr th {\n        vertical-align: top;\n    }\n\n    .dataframe thead th {\n        text-align: right;\n    }\n</style>\n<table border=\"1\" class=\"dataframe\">\n  <thead>\n    <tr style=\"text-align: right;\">\n      <th></th>\n      <th>Year</th>\n      <th>Rank</th>\n      <th>Company</th>\n      <th>revenue</th>\n      <th>profit</th>\n    </tr>\n  </thead>\n  <tbody>\n    <tr>\n      <td>0</td>\n      <td>1955</td>\n      <td>1</td>\n      <td>General Motors</td>\n      <td>9823.5</td>\n      <td>806.0</td>\n    </tr>\n    <tr>\n      <td>1</td>\n      <td>1955</td>\n      <td>2</td>\n      <td>Exxon Mobil</td>\n      <td>5661.4</td>\n      <td>584.8</td>\n    </tr>\n    <tr>\n      <td>2</td>\n      <td>1955</td>\n      <td>3</td>\n      <td>U.S. Steel</td>\n      <td>3250.4</td>\n      <td>195.4</td>\n    </tr>\n    <tr>\n      <td>3</td>\n      <td>1955</td>\n      <td>4</td>\n      <td>General Electric</td>\n      <td>2959.1</td>\n      <td>212.6</td>\n    </tr>\n    <tr>\n      <td>4</td>\n      <td>1955</td>\n      <td>5</td>\n      <td>Esmark</td>\n      <td>2510.8</td>\n      <td>19.1</td>\n    </tr>\n    <tr>\n      <td>...</td>\n      <td>...</td>\n      <td>...</td>\n      <td>...</td>\n      <td>...</td>\n      <td>...</td>\n    </tr>\n    <tr>\n      <td>25495</td>\n      <td>2005</td>\n      <td>496</td>\n      <td>Wm. Wrigley Jr.</td>\n      <td>3648.6</td>\n      <td>493.0</td>\n    </tr>\n    <tr>\n      <td>25496</td>\n      <td>2005</td>\n      <td>497</td>\n      <td>Peabody Energy</td>\n      <td>3631.6</td>\n      <td>175.4</td>\n    </tr>\n    <tr>\n      <td>25497</td>\n      <td>2005</td>\n      <td>498</td>\n      <td>Wendy's International</td>\n      <td>3630.4</td>\n      <td>57.8</td>\n    </tr>\n    <tr>\n      <td>25498</td>\n      <td>2005</td>\n      <td>499</td>\n      <td>Kindred Healthcare</td>\n      <td>3616.6</td>\n      <td>70.6</td>\n    </tr>\n    <tr>\n      <td>25499</td>\n      <td>2005</td>\n      <td>500</td>\n      <td>Cincinnati Financial</td>\n      <td>3614.0</td>\n      <td>584.0</td>\n    </tr>\n  </tbody>\n</table>\n<p>25131 rows × 5 columns</p>\n</div>"
     },
     "metadata": {},
     "execution_count": 469
    }
   ],
   "source": [
    "# Drop non-numeric value by using coerce \n",
    "df['profit'] = pd.to_numeric(df['profit'],errors='coerce')\n",
    "cleaned_df=df.dropna(subset=['profit'])\n",
    "cleaned_df"
   ]
  },
  {
   "cell_type": "code",
   "execution_count": 471,
   "metadata": {},
   "outputs": [
    {
     "output_type": "execute_result",
     "data": {
      "text/plain": [
       "Year         int64\n",
       "Rank         int64\n",
       "Company     object\n",
       "revenue    float64\n",
       "profit     float64\n",
       "dtype: object"
      ]
     },
     "metadata": {},
     "execution_count": 471
    }
   ],
   "source": [
    "#Check whether our df types got changed after drop non-numeric value from profit\n",
    "cleaned_df.dtypes"
   ]
  },
  {
   "cell_type": "code",
   "execution_count": 552,
   "metadata": {},
   "outputs": [
    {
     "output_type": "stream",
     "name": "stdout",
     "text": [
      "There are total number of cleaned 25131 rows\n"
     ]
    }
   ],
   "source": [
    "#Print total number of cleaned rows\n",
    "Cleaned_Total_row_profit = len(cleaned_df)\n",
    "print(f\"There are total number of cleaned {Cleaned_Total_row_profit} rows\")"
   ]
  },
  {
   "cell_type": "code",
   "execution_count": 553,
   "metadata": {},
   "outputs": [],
   "source": [
    "#Save DF as Json file named \"data2.json\"\r\n",
    "cleaned_df.to_json(\"data2.json\")"
   ]
  },
  {
   "cell_type": "code",
   "execution_count": 554,
   "metadata": {},
   "outputs": [],
   "source": [
    "import json\n",
    "import os\n",
    "from pandas.io.json import json_normalize "
   ]
  },
  {
   "cell_type": "code",
   "execution_count": 555,
   "metadata": {},
   "outputs": [],
   "source": [
    "# Read Jsonfile\n",
    "filepath = os.path.join(\"data2.json\")\n",
    "with open(filepath) as jsonfile:\n",
    "    json = json.load(jsonfile)"
   ]
  },
  {
   "cell_type": "code",
   "execution_count": 556,
   "metadata": {},
   "outputs": [
    {
     "output_type": "stream",
     "name": "stdout",
     "text": [
      "       Year  Rank                 Company   revenue   profit\n25001  2005     2             Exxon Mobil  270772.0  25330.0\n22001  1999     2              Ford Motor  144416.0  22071.0\n24501  2004     2             Exxon Mobil  213199.0  21510.0\n24507  2004     8               Citigroup   94713.0  17853.0\n23000  2001     1             Exxon Mobil  210392.0  17720.0\n25007  2005     8               Citigroup  108276.0  17046.0\n25004  2005     5        General Electric  152363.0  16593.0\n23501  2002     2             Exxon Mobil  191581.0  15320.0\n24005  2003     6               Citigroup  100789.0  15276.0\n24504  2004     5        General Electric  134187.0  15002.0\n25017  2005    18   Bank of America Corp.   63324.0  14143.0\n23506  2002     7               Citigroup  112022.0  14126.0\n24004  2003     5        General Electric  131698.0  14118.0\n23505  2002     6        General Electric  125913.0  13684.0\n23005  2001     6               Citigroup  111826.0  13519.0\n25005  2005     6           ChevronTexaco  147967.0  13328.0\n23004  2001     5        General Electric  129853.0  12735.0\n23009  2001    10  Verizon Communications   64707.0  11797.0\n24002  2003     3             Exxon Mobil  182466.0  11460.0\n25023  2005    24                  Pfizer   52921.0  11361.0\n"
     ]
    }
   ],
   "source": [
    "#Json to dataframe\n",
    "json_df = pd.DataFrame.from_dict(json, orient=\"columns\")\n",
    "\n",
    "# In order to remove index column json_df.set_index('Year', inplace=True)\n",
    "\n",
    "\n",
    "print(json_df.nlargest(20,['profit']))"
   ]
  },
  {
   "cell_type": "code",
   "execution_count": 562,
   "metadata": {},
   "outputs": [],
   "source": [
    "#writing sql\n",
    "from sqlalchemy import create_engine"
   ]
  },
  {
   "cell_type": "code",
   "execution_count": 563,
   "metadata": {},
   "outputs": [],
   "source": [
    "#Log into pgadmin and make table by using SQL quiry\n",
    "rds_connection_string = \"postgres:chldudwnd818@localhost:5432/SADA\"\n",
    "engine = create_engine(f'postgresql://{rds_connection_string}')"
   ]
  },
  {
   "cell_type": "code",
   "execution_count": 568,
   "metadata": {},
   "outputs": [
    {
     "output_type": "execute_result",
     "data": {
      "text/plain": [
       "['highest_profit']"
      ]
     },
     "metadata": {},
     "execution_count": 568
    }
   ],
   "source": [
    "#Check the table\n",
    "engine.table_names()"
   ]
  },
  {
   "cell_type": "code",
   "execution_count": 571,
   "metadata": {},
   "outputs": [],
   "source": [
    "#Use pandas to load dataframe into database\n",
    "json_df.to_sql(name='highest_profit', con=engine, if_exists='append', index=False)\n"
   ]
  },
  {
   "cell_type": "code",
   "execution_count": 605,
   "metadata": {},
   "outputs": [
    {
     "output_type": "execute_result",
     "data": {
      "text/plain": [
       "        Year  Rank                Company  revenue  profit\n",
       "0       1955     1         General Motors   9823.5   806.0\n",
       "1       1955     2            Exxon Mobil   5661.4   584.8\n",
       "2       1955     3             U.S. Steel   3250.4   195.4\n",
       "3       1955     4       General Electric   2959.1   212.6\n",
       "4       1955     5                 Esmark   2510.8    19.1\n",
       "...      ...   ...                    ...      ...     ...\n",
       "100519  2005   496        Wm. Wrigley Jr.   3648.6   493.0\n",
       "100520  2005   497         Peabody Energy   3631.6   175.4\n",
       "100521  2005   498  Wendy's International   3630.4    57.8\n",
       "100522  2005   499     Kindred Healthcare   3616.6    70.6\n",
       "100523  2005   500   Cincinnati Financial   3614.0   584.0\n",
       "\n",
       "[100524 rows x 5 columns]"
      ],
      "text/html": "<div>\n<style scoped>\n    .dataframe tbody tr th:only-of-type {\n        vertical-align: middle;\n    }\n\n    .dataframe tbody tr th {\n        vertical-align: top;\n    }\n\n    .dataframe thead th {\n        text-align: right;\n    }\n</style>\n<table border=\"1\" class=\"dataframe\">\n  <thead>\n    <tr style=\"text-align: right;\">\n      <th></th>\n      <th>Year</th>\n      <th>Rank</th>\n      <th>Company</th>\n      <th>revenue</th>\n      <th>profit</th>\n    </tr>\n  </thead>\n  <tbody>\n    <tr>\n      <td>0</td>\n      <td>1955</td>\n      <td>1</td>\n      <td>General Motors</td>\n      <td>9823.5</td>\n      <td>806.0</td>\n    </tr>\n    <tr>\n      <td>1</td>\n      <td>1955</td>\n      <td>2</td>\n      <td>Exxon Mobil</td>\n      <td>5661.4</td>\n      <td>584.8</td>\n    </tr>\n    <tr>\n      <td>2</td>\n      <td>1955</td>\n      <td>3</td>\n      <td>U.S. Steel</td>\n      <td>3250.4</td>\n      <td>195.4</td>\n    </tr>\n    <tr>\n      <td>3</td>\n      <td>1955</td>\n      <td>4</td>\n      <td>General Electric</td>\n      <td>2959.1</td>\n      <td>212.6</td>\n    </tr>\n    <tr>\n      <td>4</td>\n      <td>1955</td>\n      <td>5</td>\n      <td>Esmark</td>\n      <td>2510.8</td>\n      <td>19.1</td>\n    </tr>\n    <tr>\n      <td>...</td>\n      <td>...</td>\n      <td>...</td>\n      <td>...</td>\n      <td>...</td>\n      <td>...</td>\n    </tr>\n    <tr>\n      <td>100519</td>\n      <td>2005</td>\n      <td>496</td>\n      <td>Wm. Wrigley Jr.</td>\n      <td>3648.6</td>\n      <td>493.0</td>\n    </tr>\n    <tr>\n      <td>100520</td>\n      <td>2005</td>\n      <td>497</td>\n      <td>Peabody Energy</td>\n      <td>3631.6</td>\n      <td>175.4</td>\n    </tr>\n    <tr>\n      <td>100521</td>\n      <td>2005</td>\n      <td>498</td>\n      <td>Wendy's International</td>\n      <td>3630.4</td>\n      <td>57.8</td>\n    </tr>\n    <tr>\n      <td>100522</td>\n      <td>2005</td>\n      <td>499</td>\n      <td>Kindred Healthcare</td>\n      <td>3616.6</td>\n      <td>70.6</td>\n    </tr>\n    <tr>\n      <td>100523</td>\n      <td>2005</td>\n      <td>500</td>\n      <td>Cincinnati Financial</td>\n      <td>3614.0</td>\n      <td>584.0</td>\n    </tr>\n  </tbody>\n</table>\n<p>100524 rows × 5 columns</p>\n</div>"
     },
     "metadata": {},
     "execution_count": 605
    }
   ],
   "source": [
    "#Check the table include values\n",
    "pd.read_sql_table('highest_profit', con=engine)"
   ]
  },
  {
   "cell_type": "code",
   "execution_count": 606,
   "metadata": {},
   "outputs": [
    {
     "output_type": "execute_result",
     "data": {
      "text/plain": [
       "    Year  Rank                 Company   revenue   profit\n",
       "0   2005     2             Exxon Mobil  270772.0  25330.0\n",
       "1   1999     2              Ford Motor  144416.0  22071.0\n",
       "2   2004     2             Exxon Mobil  213199.0  21510.0\n",
       "3   2004     8               Citigroup   94713.0  17853.0\n",
       "4   2001     1             Exxon Mobil  210392.0  17720.0\n",
       "5   2005     8               Citigroup  108276.0  17046.0\n",
       "6   2005     5        General Electric  152363.0  16593.0\n",
       "7   2002     2             Exxon Mobil  191581.0  15320.0\n",
       "8   2003     6               Citigroup  100789.0  15276.0\n",
       "9   2004     5        General Electric  134187.0  15002.0\n",
       "10  2005    18   Bank of America Corp.   63324.0  14143.0\n",
       "11  2002     7               Citigroup  112022.0  14126.0\n",
       "12  2003     5        General Electric  131698.0  14118.0\n",
       "13  2002     6        General Electric  125913.0  13684.0\n",
       "14  2001     6               Citigroup  111826.0  13519.0\n",
       "15  2005     6           ChevronTexaco  147967.0  13328.0\n",
       "16  2001     5        General Electric  129853.0  12735.0\n",
       "17  2001    10  Verizon Communications   64707.0  11797.0\n",
       "18  2003     3             Exxon Mobil  182466.0  11460.0\n",
       "19  2005    24                  Pfizer   52921.0  11361.0"
      ],
      "text/html": "<div>\n<style scoped>\n    .dataframe tbody tr th:only-of-type {\n        vertical-align: middle;\n    }\n\n    .dataframe tbody tr th {\n        vertical-align: top;\n    }\n\n    .dataframe thead th {\n        text-align: right;\n    }\n</style>\n<table border=\"1\" class=\"dataframe\">\n  <thead>\n    <tr style=\"text-align: right;\">\n      <th></th>\n      <th>Year</th>\n      <th>Rank</th>\n      <th>Company</th>\n      <th>revenue</th>\n      <th>profit</th>\n    </tr>\n  </thead>\n  <tbody>\n    <tr>\n      <td>0</td>\n      <td>2005</td>\n      <td>2</td>\n      <td>Exxon Mobil</td>\n      <td>270772.0</td>\n      <td>25330.0</td>\n    </tr>\n    <tr>\n      <td>1</td>\n      <td>1999</td>\n      <td>2</td>\n      <td>Ford Motor</td>\n      <td>144416.0</td>\n      <td>22071.0</td>\n    </tr>\n    <tr>\n      <td>2</td>\n      <td>2004</td>\n      <td>2</td>\n      <td>Exxon Mobil</td>\n      <td>213199.0</td>\n      <td>21510.0</td>\n    </tr>\n    <tr>\n      <td>3</td>\n      <td>2004</td>\n      <td>8</td>\n      <td>Citigroup</td>\n      <td>94713.0</td>\n      <td>17853.0</td>\n    </tr>\n    <tr>\n      <td>4</td>\n      <td>2001</td>\n      <td>1</td>\n      <td>Exxon Mobil</td>\n      <td>210392.0</td>\n      <td>17720.0</td>\n    </tr>\n    <tr>\n      <td>5</td>\n      <td>2005</td>\n      <td>8</td>\n      <td>Citigroup</td>\n      <td>108276.0</td>\n      <td>17046.0</td>\n    </tr>\n    <tr>\n      <td>6</td>\n      <td>2005</td>\n      <td>5</td>\n      <td>General Electric</td>\n      <td>152363.0</td>\n      <td>16593.0</td>\n    </tr>\n    <tr>\n      <td>7</td>\n      <td>2002</td>\n      <td>2</td>\n      <td>Exxon Mobil</td>\n      <td>191581.0</td>\n      <td>15320.0</td>\n    </tr>\n    <tr>\n      <td>8</td>\n      <td>2003</td>\n      <td>6</td>\n      <td>Citigroup</td>\n      <td>100789.0</td>\n      <td>15276.0</td>\n    </tr>\n    <tr>\n      <td>9</td>\n      <td>2004</td>\n      <td>5</td>\n      <td>General Electric</td>\n      <td>134187.0</td>\n      <td>15002.0</td>\n    </tr>\n    <tr>\n      <td>10</td>\n      <td>2005</td>\n      <td>18</td>\n      <td>Bank of America Corp.</td>\n      <td>63324.0</td>\n      <td>14143.0</td>\n    </tr>\n    <tr>\n      <td>11</td>\n      <td>2002</td>\n      <td>7</td>\n      <td>Citigroup</td>\n      <td>112022.0</td>\n      <td>14126.0</td>\n    </tr>\n    <tr>\n      <td>12</td>\n      <td>2003</td>\n      <td>5</td>\n      <td>General Electric</td>\n      <td>131698.0</td>\n      <td>14118.0</td>\n    </tr>\n    <tr>\n      <td>13</td>\n      <td>2002</td>\n      <td>6</td>\n      <td>General Electric</td>\n      <td>125913.0</td>\n      <td>13684.0</td>\n    </tr>\n    <tr>\n      <td>14</td>\n      <td>2001</td>\n      <td>6</td>\n      <td>Citigroup</td>\n      <td>111826.0</td>\n      <td>13519.0</td>\n    </tr>\n    <tr>\n      <td>15</td>\n      <td>2005</td>\n      <td>6</td>\n      <td>ChevronTexaco</td>\n      <td>147967.0</td>\n      <td>13328.0</td>\n    </tr>\n    <tr>\n      <td>16</td>\n      <td>2001</td>\n      <td>5</td>\n      <td>General Electric</td>\n      <td>129853.0</td>\n      <td>12735.0</td>\n    </tr>\n    <tr>\n      <td>17</td>\n      <td>2001</td>\n      <td>10</td>\n      <td>Verizon Communications</td>\n      <td>64707.0</td>\n      <td>11797.0</td>\n    </tr>\n    <tr>\n      <td>18</td>\n      <td>2003</td>\n      <td>3</td>\n      <td>Exxon Mobil</td>\n      <td>182466.0</td>\n      <td>11460.0</td>\n    </tr>\n    <tr>\n      <td>19</td>\n      <td>2005</td>\n      <td>24</td>\n      <td>Pfizer</td>\n      <td>52921.0</td>\n      <td>11361.0</td>\n    </tr>\n  </tbody>\n</table>\n</div>"
     },
     "metadata": {},
     "execution_count": 606
    }
   ],
   "source": [
    "# Run the squiry quiry and find the TOP 20 profit \n",
    "pd.read_sql_query('SELECT DISTINCT * from highest_profit ORDER by profit DESC LIMIT 20', con=engine)"
   ]
  }
 ]
}